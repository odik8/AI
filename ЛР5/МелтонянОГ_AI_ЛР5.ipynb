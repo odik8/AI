{
 "cells": [
  {
   "cell_type": "markdown",
   "metadata": {},
   "source": [
    "# Лабораторная работа №5. Разработка единого подхода к предварительной обработки данных.\n",
    "\n",
    "Выполнил: Мелтонян Одиссей Гарикович\n",
    "\n",
    "Группа: пиж-б-о-22-1"
   ]
  },
  {
   "cell_type": "markdown",
   "metadata": {},
   "source": [
    "__Цель лабораторной работы:__ изучение теоретических принципов и инструментальных редств для построения пайплайна для предварительной обработки данных.\n"
   ]
  },
  {
   "cell_type": "markdown",
   "metadata": {},
   "source": [
    "## Ход работы"
   ]
  },
  {
   "cell_type": "markdown",
   "metadata": {},
   "source": [
    "1. Реализлвана первичная обработка данных загруженного набора. Выполнен полный спектр операций для загруженного набора данны: загрузка, визуализация, обработка пропущенных значений, обработка категориальных данных и разделение выборки на тестовую и тренировочную."
   ]
  },
  {
   "cell_type": "code",
   "execution_count": null,
   "metadata": {},
   "outputs": [
    {
     "data": {
      "text/html": [
       "<div>\n",
       "<style scoped>\n",
       "    .dataframe tbody tr th:only-of-type {\n",
       "        vertical-align: middle;\n",
       "    }\n",
       "\n",
       "    .dataframe tbody tr th {\n",
       "        vertical-align: top;\n",
       "    }\n",
       "\n",
       "    .dataframe thead th {\n",
       "        text-align: right;\n",
       "    }\n",
       "</style>\n",
       "<table border=\"1\" class=\"dataframe\">\n",
       "  <thead>\n",
       "    <tr style=\"text-align: right;\">\n",
       "      <th></th>\n",
       "      <th>Country</th>\n",
       "      <th>Age</th>\n",
       "      <th>Salary</th>\n",
       "      <th>Purchased</th>\n",
       "    </tr>\n",
       "  </thead>\n",
       "  <tbody>\n",
       "    <tr>\n",
       "      <th>0</th>\n",
       "      <td>France</td>\n",
       "      <td>44.0</td>\n",
       "      <td>72000.0</td>\n",
       "      <td>No</td>\n",
       "    </tr>\n",
       "    <tr>\n",
       "      <th>1</th>\n",
       "      <td>Spain</td>\n",
       "      <td>27.0</td>\n",
       "      <td>48000.0</td>\n",
       "      <td>Yes</td>\n",
       "    </tr>\n",
       "    <tr>\n",
       "      <th>2</th>\n",
       "      <td>Germany</td>\n",
       "      <td>30.0</td>\n",
       "      <td>54000.0</td>\n",
       "      <td>No</td>\n",
       "    </tr>\n",
       "    <tr>\n",
       "      <th>3</th>\n",
       "      <td>Spain</td>\n",
       "      <td>38.0</td>\n",
       "      <td>61000.0</td>\n",
       "      <td>No</td>\n",
       "    </tr>\n",
       "    <tr>\n",
       "      <th>4</th>\n",
       "      <td>Germany</td>\n",
       "      <td>40.0</td>\n",
       "      <td>NaN</td>\n",
       "      <td>Yes</td>\n",
       "    </tr>\n",
       "  </tbody>\n",
       "</table>\n",
       "</div>"
      ],
      "text/plain": [
       "   Country   Age   Salary Purchased\n",
       "0   France  44.0  72000.0        No\n",
       "1    Spain  27.0  48000.0       Yes\n",
       "2  Germany  30.0  54000.0        No\n",
       "3    Spain  38.0  61000.0        No\n",
       "4  Germany  40.0      NaN       Yes"
      ]
     },
     "execution_count": 9,
     "metadata": {},
     "output_type": "execute_result"
    }
   ],
   "source": [
    "# Загрузка данных\n",
    "import numpy as np\n",
    "import matplotlib.pyplot as plt\n",
    "import pandas as pd\n",
    "\n",
    "dataset = pd.read_csv('data.csv')\n",
    "dataset.head()"
   ]
  },
  {
   "cell_type": "code",
   "execution_count": null,
   "metadata": {},
   "outputs": [
    {
     "name": "stdout",
     "output_type": "stream",
     "text": [
      "Матрица признаков:\n",
      " [['France' 44.0 72000.0]\n",
      " ['Spain' 27.0 48000.0]\n",
      " ['Germany' 30.0 54000.0]\n",
      " ['Spain' 38.0 61000.0]\n",
      " ['Germany' 40.0 nan]\n",
      " ['France' 35.0 58000.0]\n",
      " ['Spain' nan 52000.0]\n",
      " ['France' 48.0 79000.0]\n",
      " ['Germany' 50.0 83000.0]\n",
      " ['France' 37.0 67000.0]]\n",
      "\n",
      "Зависимая переменная:\n",
      " ['No' 'Yes' 'No' 'No' 'Yes' 'Yes' 'No' 'Yes' 'No' 'Yes']\n"
     ]
    }
   ],
   "source": [
    "# Визуализация данных\n",
    "x = dataset.iloc[:, :-1].values\n",
    "y = dataset.iloc[:, 3].values\n",
    "print('Матрица признаков:\\n', x)\n",
    "print()\n",
    "print('Зависимая переменная:\\n', y)"
   ]
  },
  {
   "cell_type": "code",
   "execution_count": null,
   "metadata": {},
   "outputs": [
    {
     "name": "stdout",
     "output_type": "stream",
     "text": [
      "[0 1 0 0 1 1 0 1 0 1]\n"
     ]
    }
   ],
   "source": [
    "# Обработка категориальных данных\n",
    "from sklearn.preprocessing import LabelEncoder\n",
    "\n",
    "labelencoder_y = LabelEncoder()\n",
    "y_transformed = labelencoder_y.fit_transform(y)\n",
    "print(y_transformed)"
   ]
  },
  {
   "cell_type": "code",
   "execution_count": null,
   "metadata": {},
   "outputs": [
    {
     "name": "stdout",
     "output_type": "stream",
     "text": [
      "(10, 5)\n"
     ]
    },
    {
     "data": {
      "text/plain": [
       "array([[1.00000000e+00, 0.00000000e+00, 0.00000000e+00, 4.40000000e+01,\n",
       "        7.20000000e+04],\n",
       "       [0.00000000e+00, 0.00000000e+00, 1.00000000e+00, 2.70000000e+01,\n",
       "        4.80000000e+04],\n",
       "       [0.00000000e+00, 1.00000000e+00, 0.00000000e+00, 3.00000000e+01,\n",
       "        5.40000000e+04],\n",
       "       [0.00000000e+00, 0.00000000e+00, 1.00000000e+00, 3.80000000e+01,\n",
       "        6.10000000e+04],\n",
       "       [0.00000000e+00, 1.00000000e+00, 0.00000000e+00, 4.00000000e+01,\n",
       "        6.37777778e+04],\n",
       "       [1.00000000e+00, 0.00000000e+00, 0.00000000e+00, 3.50000000e+01,\n",
       "        5.80000000e+04],\n",
       "       [0.00000000e+00, 0.00000000e+00, 1.00000000e+00, 3.87777778e+01,\n",
       "        5.20000000e+04],\n",
       "       [1.00000000e+00, 0.00000000e+00, 0.00000000e+00, 4.80000000e+01,\n",
       "        7.90000000e+04],\n",
       "       [0.00000000e+00, 1.00000000e+00, 0.00000000e+00, 5.00000000e+01,\n",
       "        8.30000000e+04],\n",
       "       [1.00000000e+00, 0.00000000e+00, 0.00000000e+00, 3.70000000e+01,\n",
       "        6.70000000e+04]])"
      ]
     },
     "execution_count": 42,
     "metadata": {},
     "output_type": "execute_result"
    }
   ],
   "source": [
    "# Обработка категориальных данных и заполнение пропусков\n",
    "from sklearn.preprocessing import OneHotEncoder\n",
    "from sklearn.compose import ColumnTransformer\n",
    "from sklearn.impute import SimpleImputer\n",
    "\n",
    "transformers = [\n",
    "    ('onehot', OneHotEncoder(), [0]),\n",
    "    ('imp', SimpleImputer(), [1, 2])\n",
    "]\n",
    "ct = ColumnTransformer(transformers)\n",
    "x_transformed = ct.fit_transform(x)\n",
    "print(x_transformed.shape)\n",
    "x_transformed\n"
   ]
  },
  {
   "cell_type": "code",
   "execution_count": null,
   "metadata": {},
   "outputs": [
    {
     "name": "stdout",
     "output_type": "stream",
     "text": [
      "Тренировочкая выборка:\n",
      "[[1.00000000e+00 0.00000000e+00 0.00000000e+00 3.50000000e+01\n",
      "  5.80000000e+04]\n",
      " [1.00000000e+00 0.00000000e+00 0.00000000e+00 4.40000000e+01\n",
      "  7.20000000e+04]\n",
      " [1.00000000e+00 0.00000000e+00 0.00000000e+00 4.80000000e+01\n",
      "  7.90000000e+04]\n",
      " [0.00000000e+00 1.00000000e+00 0.00000000e+00 3.00000000e+01\n",
      "  5.40000000e+04]\n",
      " [1.00000000e+00 0.00000000e+00 0.00000000e+00 3.70000000e+01\n",
      "  6.70000000e+04]\n",
      " [0.00000000e+00 1.00000000e+00 0.00000000e+00 4.00000000e+01\n",
      "  6.37777778e+04]\n",
      " [0.00000000e+00 0.00000000e+00 1.00000000e+00 3.80000000e+01\n",
      "  6.10000000e+04]\n",
      " [0.00000000e+00 0.00000000e+00 1.00000000e+00 3.87777778e+01\n",
      "  5.20000000e+04]]\n",
      "[1 0 1 0 1 1 0 0]\n",
      "Тестовая выборка:\n",
      "[[0.0e+00 1.0e+00 0.0e+00 5.0e+01 8.3e+04]\n",
      " [0.0e+00 0.0e+00 1.0e+00 2.7e+01 4.8e+04]]\n",
      "[0 1]\n"
     ]
    }
   ],
   "source": [
    "from sklearn.model_selection import train_test_split\n",
    "\n",
    "x_train, x_test, y_train, y_test = train_test_split(x_transformed, y_transformed, test_size=0.2, random_state=42)\n",
    "print('Тренировочкая выборка:', x_train, y_train, sep='\\n')\n",
    "print('Тестовая выборка:', x_test, y_test, sep='\\n')"
   ]
  },
  {
   "cell_type": "code",
   "execution_count": null,
   "metadata": {},
   "outputs": [
    {
     "name": "stdout",
     "output_type": "stream",
     "text": [
      "    C1   C2   C3   Age   Salary\n",
      "0  0.0  1.0  0.0  50.0  83000.0\n",
      "1  0.0  0.0  1.0  27.0  48000.0\n",
      "   Purchased\n",
      "0          0\n",
      "1          1\n"
     ]
    }
   ],
   "source": [
    "# Можно преобразовать полученный многомерный массив обратно в Dataframe\n",
    "x_data = pd.DataFrame(\n",
    "    x_test,\n",
    "    columns=['C1', 'C2', 'C3', 'Age', 'Salary'])\n",
    "y_date = pd.DataFrame(\n",
    "    y_test,\n",
    "    columns=['Purchased']\n",
    ")\n",
    "print(x_data, y_date, sep='\\n')"
   ]
  },
  {
   "cell_type": "markdown",
   "metadata": {},
   "source": [
    "## Контрольные вопросы"
   ]
  },
  {
   "cell_type": "markdown",
   "metadata": {},
   "source": [
    "1. **Какая библиотека python предназначена для управления наборами данных: numpy, pandas, sklearn, opencv, matplotlib?**\n",
    "\n",
    "   Библиотека **pandas** предназначена для управления наборами данных. Она предоставляет структуры данных и функции для работы с таблицами и временными рядами, что делает её удобной для анализа данных.\n",
    "\n",
    "2. **Какая стратегия является нежелательной при обработке пропусков в данных?**\n",
    "\n",
    "   б **удаление строк, содержащих пропуски в данных**;\n",
    "   \n",
    "   Удаление строк с пропусками может привести к значительным потерям данных, особенно если пропусков много. Это может исказить результаты анализа и уменьшить статистическую мощность.\n",
    "\n",
    "3. **Обоснуйте ответ на следующую проблему предварительной обработки данных: имеется независимая категориальная переменная y, которая представляет собой категориальный признак, определённый на домене {C#, Java, Python, R}. Нужно ли применять к данному целевому признаку OneHotEncoder?**\n",
    "\n",
    "   Если переменная **y** является целевым признаком (то есть, это переменная, которую мы пытаемся предсказать), то к ней **не нужно** применять OneHotEncoder. В таких случаях, когда целевая переменная категориальная, её обычно кодируют с помощью LabelEncoder или используют её как есть в виде категорий. OneHotEncoder применяется к категориальным признакам, которые используются в качестве входных данных для модели (то есть к независимым переменным), чтобы предотвратить порядок категорий в модельных вычислениях.\n",
    "\n",
    "4. **Поясните принцип разбиения набора данных на обучающую и тестовую выборку. Какое соотношение «тестовая:обучающая» наиболее оптимально: 20:80, 50:50, 25:75, 5:95, 40:30?**\n",
    "\n",
    "   Принцип разбиения набора данных на обучающую и тестовую выборку заключается в том, чтобы оценить производительность модели на новых, невидимых данных. Обучающая выборка используется для построения модели, а тестовая выборка – для её оценки.\n",
    "   \n",
    "   Наиболее оптимальное соотношение **20:80**. Это позволяет достаточно данных использовать для обучения модели, сохраняя при этом достаточно данных для её тестирования. В некоторых случаях может использоваться соотношение 25:75 или другие варианты в зависимости от конкретной задачи и объёма данных.\n",
    "\n",
    "5. **Какой код лучше использовать при загрузке данных из csv-файла?**\n",
    "\n",
    "   а **dataset = read_csv(“data.csv”)**\n",
    "   \n",
    "   В Python для загрузки данных из CSV-файлов обычно используется функция `read_csv` из библиотеки pandas. Это стандартный и наиболее распространённый способ.\n",
    "\n",
    "```python\n",
    "import pandas as pd\n",
    "dataset = pd.read_csv(\"data.csv\")\n",
    "```\n",
    "\n",
    "Ответы на все вопросы предоставлены с учётом лучших практик и широко используемых методов в области анализа данных и машинного обучения."
   ]
  }
 ],
 "metadata": {
  "kernelspec": {
   "display_name": "venv",
   "language": "python",
   "name": "python3"
  },
  "language_info": {
   "codemirror_mode": {
    "name": "ipython",
    "version": 3
   },
   "file_extension": ".py",
   "mimetype": "text/x-python",
   "name": "python",
   "nbconvert_exporter": "python",
   "pygments_lexer": "ipython3",
   "version": "3.12.2"
  }
 },
 "nbformat": 4,
 "nbformat_minor": 2
}
